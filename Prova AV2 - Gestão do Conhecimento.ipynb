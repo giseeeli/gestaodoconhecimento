{
  "cells": [
    {
      "metadata": {},
      "cell_type": "markdown",
      "source": "DISCIPLINA: Gestão do Conhecimento\t PROFESSOR(A): Alex Salgado\nPERÍODO: 7o. TURNO: noite AVALIAÇÃO:\n\nALUNO(A): Giseli Cicarelli\n\nGRAU: VISTO DO PROFESSOR:\n"
    },
    {
      "metadata": {},
      "cell_type": "markdown",
      "source": "# Questão 1 - valor (1,0)\n"
    },
    {
      "metadata": {},
      "cell_type": "markdown",
      "source": "*** Crie um repositório no Github e adicione este arquivo no mesmo\n\n\n1.1 - Você deve escolher uma base de dados aberta que seja possível treinar um modelo de aprendizagem de máquina Supervisionado de Classificação (assim como o exemplo da Iris e Cancer). A partir desta base de dados, você vai treinar o modelo, fazer previsões e calcular a acurácia do mesmo.\nObs.: Não utilizar nenhuma base de dados usada em aula ou nos trabalhos.\nAs bases de dados não poderá ser igual a do seu colega, dessa forma, preencha a planilha abaixo dizendo a sua base e seu tema. \nhttps://forms.gle/CvmN5fr4u2g5zoZRA\n\n\n** Para saber se já escolheram o mesmo que você, consulte no link abaixo.\nhttps://docs.google.com/spreadsheets/d/1E_GuH7C8vn_o-gyOeN5LavoQlByjVQb1UiVfP71OX3g/edit?usp=sharing\n"
    },
    {
      "metadata": {
        "trusted": false
      },
      "cell_type": "code",
      "source": "",
      "execution_count": null,
      "outputs": []
    },
    {
      "metadata": {},
      "cell_type": "markdown",
      "source": "1.2 - Após tratada, criar uma pasta no seu GoogleDrive e disponibilizar o link do arquivo de sua base (csv, xlsx, etc) para ser importado no seu código."
    },
    {
      "metadata": {
        "trusted": true
      },
      "cell_type": "code",
      "source": "#https://drive.google.com/file/d/1KZFaIgTdnDASrE09xc7W2zTOk8l2jNHn/view?usp=sharing",
      "execution_count": null,
      "outputs": []
    },
    {
      "metadata": {},
      "cell_type": "markdown",
      "source": "## Criar um código usando o Jupyter Notebook e responder (através de código) às seguintes questões:\n"
    },
    {
      "metadata": {},
      "cell_type": "markdown",
      "source": "# Questão 2 - valor (1,0)"
    },
    {
      "metadata": {},
      "cell_type": "markdown",
      "source": "2.1 - Importar os modulos python para machine learn e carregar o arquivo \n\n** Sugestão se for do tipo xlsx, usar o read_excel do pandas\nimport pandas as pd\ndt = pd.read_excel(\"meuarquivo.xlsx\")\n"
    },
    {
      "metadata": {
        "trusted": true
      },
      "cell_type": "code",
      "source": "import pandas as pd\nimport numpy as np\nhepatitis = pd.read_csv('hepatitis.csv')\ntype(hepatitis)",
      "execution_count": 25,
      "outputs": [
        {
          "output_type": "execute_result",
          "execution_count": 25,
          "data": {
            "text/plain": "pandas.core.frame.DataFrame"
          },
          "metadata": {}
        }
      ]
    },
    {
      "metadata": {},
      "cell_type": "markdown",
      "source": "2.2 - Exibir os primeiros registros desta tabela.\n"
    },
    {
      "metadata": {
        "trusted": true
      },
      "cell_type": "code",
      "source": "hepatitis.head()",
      "execution_count": 26,
      "outputs": [
        {
          "output_type": "execute_result",
          "execution_count": 26,
          "data": {
            "text/html": "<div>\n<table border=\"1\" class=\"dataframe\">\n  <thead>\n    <tr style=\"text-align: right;\">\n      <th></th>\n      <th>class</th>\n      <th>age</th>\n      <th>sex</th>\n      <th>steroid</th>\n      <th>antivirals</th>\n      <th>fatigue</th>\n      <th>malaise</th>\n      <th>anorexia</th>\n      <th>liver_big</th>\n      <th>liver_firm</th>\n      <th>spleen_palable</th>\n      <th>spiders</th>\n      <th>ascites</th>\n      <th>varices</th>\n      <th>bilirubin</th>\n      <th>alk_phosphate</th>\n      <th>sgot</th>\n      <th>albumin</th>\n      <th>protime</th>\n      <th>histology</th>\n    </tr>\n  </thead>\n  <tbody>\n    <tr>\n      <th>0</th>\n      <td>2</td>\n      <td>30</td>\n      <td>2</td>\n      <td>1</td>\n      <td>2</td>\n      <td>2</td>\n      <td>2</td>\n      <td>2</td>\n      <td>1</td>\n      <td>2</td>\n      <td>2</td>\n      <td>2</td>\n      <td>2</td>\n      <td>2</td>\n      <td>1.0</td>\n      <td>85</td>\n      <td>18</td>\n      <td>4.0</td>\n      <td>61</td>\n      <td>1</td>\n    </tr>\n    <tr>\n      <th>1</th>\n      <td>2</td>\n      <td>50</td>\n      <td>1</td>\n      <td>1</td>\n      <td>2</td>\n      <td>1</td>\n      <td>2</td>\n      <td>2</td>\n      <td>1</td>\n      <td>2</td>\n      <td>2</td>\n      <td>2</td>\n      <td>2</td>\n      <td>2</td>\n      <td>0.9</td>\n      <td>135</td>\n      <td>42</td>\n      <td>3.5</td>\n      <td>61</td>\n      <td>1</td>\n    </tr>\n    <tr>\n      <th>2</th>\n      <td>2</td>\n      <td>78</td>\n      <td>1</td>\n      <td>2</td>\n      <td>2</td>\n      <td>1</td>\n      <td>2</td>\n      <td>2</td>\n      <td>2</td>\n      <td>2</td>\n      <td>2</td>\n      <td>2</td>\n      <td>2</td>\n      <td>2</td>\n      <td>0.7</td>\n      <td>96</td>\n      <td>32</td>\n      <td>4.0</td>\n      <td>61</td>\n      <td>1</td>\n    </tr>\n    <tr>\n      <th>3</th>\n      <td>2</td>\n      <td>34</td>\n      <td>1</td>\n      <td>2</td>\n      <td>2</td>\n      <td>2</td>\n      <td>2</td>\n      <td>2</td>\n      <td>2</td>\n      <td>2</td>\n      <td>2</td>\n      <td>2</td>\n      <td>2</td>\n      <td>2</td>\n      <td>1.0</td>\n      <td>105</td>\n      <td>200</td>\n      <td>4.0</td>\n      <td>61</td>\n      <td>1</td>\n    </tr>\n    <tr>\n      <th>4</th>\n      <td>2</td>\n      <td>34</td>\n      <td>1</td>\n      <td>2</td>\n      <td>2</td>\n      <td>2</td>\n      <td>2</td>\n      <td>2</td>\n      <td>2</td>\n      <td>2</td>\n      <td>2</td>\n      <td>2</td>\n      <td>2</td>\n      <td>2</td>\n      <td>0.9</td>\n      <td>95</td>\n      <td>28</td>\n      <td>4.0</td>\n      <td>75</td>\n      <td>1</td>\n    </tr>\n  </tbody>\n</table>\n</div>",
            "text/plain": "   class  age  sex  steroid  antivirals  fatigue  malaise  anorexia  \\\n0      2   30    2        1           2        2        2         2   \n1      2   50    1        1           2        1        2         2   \n2      2   78    1        2           2        1        2         2   \n3      2   34    1        2           2        2        2         2   \n4      2   34    1        2           2        2        2         2   \n\n   liver_big  liver_firm  spleen_palable  spiders  ascites  varices  \\\n0          1           2               2        2        2        2   \n1          1           2               2        2        2        2   \n2          2           2               2        2        2        2   \n3          2           2               2        2        2        2   \n4          2           2               2        2        2        2   \n\n   bilirubin  alk_phosphate  sgot  albumin  protime  histology  \n0        1.0             85    18      4.0       61          1  \n1        0.9            135    42      3.5       61          1  \n2        0.7             96    32      4.0       61          1  \n3        1.0            105   200      4.0       61          1  \n4        0.9             95    28      4.0       75          1  "
          },
          "metadata": {}
        }
      ]
    },
    {
      "metadata": {},
      "cell_type": "markdown",
      "source": "2.3 - De que se trata esse banco de dados? e que tipo de previsão pode ser feito com ele?\n"
    },
    {
      "metadata": {
        "trusted": true
      },
      "cell_type": "code",
      "source": "#A base trata-se de uma avaliação de pacientes com Hepatite, se sobreviveram ou não.",
      "execution_count": 35,
      "outputs": []
    },
    {
      "metadata": {},
      "cell_type": "markdown",
      "source": "# Questão 3 - valor (0,5)\n"
    },
    {
      "metadata": {},
      "cell_type": "markdown",
      "source": "Utilizando as terminologias de Machine Learning(features e observações):\n\n"
    },
    {
      "metadata": {},
      "cell_type": "markdown",
      "source": "3.1 - Quantas \"features\" têm nessa base de dados?"
    },
    {
      "metadata": {
        "trusted": true
      },
      "cell_type": "code",
      "source": "shape = hepatitis.shape\nprint('Quantidade de Features: {}'.format(shape[1] - 1))",
      "execution_count": 12,
      "outputs": [
        {
          "output_type": "stream",
          "text": "Quantidade de Features: 19\n",
          "name": "stdout"
        }
      ]
    },
    {
      "metadata": {},
      "cell_type": "markdown",
      "source": "3.2 - Quantas observações têm nessa base de dados?\n"
    },
    {
      "metadata": {
        "trusted": true
      },
      "cell_type": "code",
      "source": "print('Quantidade de Observações: {}'.format(shape[0]))",
      "execution_count": 13,
      "outputs": [
        {
          "output_type": "stream",
          "text": "Quantidade de Observações: 155\n",
          "name": "stdout"
        }
      ]
    },
    {
      "metadata": {},
      "cell_type": "markdown",
      "source": "# Questão 4 - valor (1,5)\n"
    },
    {
      "metadata": {},
      "cell_type": "markdown",
      "source": "4.1 - Faça uma previsão, usando o algoritmo de LogisticRegression.\n"
    },
    {
      "metadata": {
        "trusted": true
      },
      "cell_type": "code",
      "source": "x_vars = []\n\nfor column in hepatitis.columns:\n    x_vars.append(column)\nx_vars.remove('histology')\nx = hepatitis[x_vars].values\ny = hepatitis['histology'].values\nfrom sklearn.linear_model import LogisticRegression as lr\nlogreg = lr()\nlogreg.fit(x,y)\nlogreg.predict(x)\ny_pred = logreg.predict(x)\nlen(y_pred)\nfrom sklearn import metrics\nmetrics.accuracy_score(y,y_pred)",
      "execution_count": 30,
      "outputs": [
        {
          "output_type": "execute_result",
          "execution_count": 30,
          "data": {
            "text/plain": "0.7746478873239436"
          },
          "metadata": {}
        }
      ]
    },
    {
      "metadata": {},
      "cell_type": "markdown",
      "source": "# Questão 5 - valor (2,0)\n"
    },
    {
      "metadata": {},
      "cell_type": "markdown",
      "source": "Usando o método de avaliação de acurácia (Treinar e testar na base de dados inteira/Train test entire model), Calcular a acurácia de cada um dos 3 métodos abaixo."
    },
    {
      "metadata": {},
      "cell_type": "markdown",
      "source": "4.1 - Acurácia usando o algoritmo de KNN (com 1 vizinho, k=1)\n"
    },
    {
      "metadata": {
        "trusted": true
      },
      "cell_type": "code",
      "source": "from sklearn.neighbors import KNeighborsClassifier as knc\nknn = knc(n_neighbors=1)\nknn.fit(x,y)\ny_pred = knn.predict(x)\nprint(metrics.accuracy_score(y,y_pred))\n\nfrom sklearn.model_selection import train_test_split as ts\nx_train, x_test, y_train, y_test = ts(x, y, test_size=0.4, random_state=4)\nknn = knc(n_neighbors=1)\nknn.fit(x_train, y_train)\ny_pred = knn.predict(x_test)\nprint(metrics.accuracy_score(y_test, y_pred))",
      "execution_count": 31,
      "outputs": [
        {
          "output_type": "stream",
          "text": "1.0\n0.543859649122807\n",
          "name": "stdout"
        }
      ]
    },
    {
      "metadata": {},
      "cell_type": "markdown",
      "source": "4.2 - Acurácia usando o algoritmo de KNN (com 5 vizinho, k=5)\n"
    },
    {
      "metadata": {
        "trusted": true
      },
      "cell_type": "code",
      "source": "knn = knc(n_neighbors=5)\nknn.fit(x,y)\ny_pred = knn.predict(x)\nprint(metrics.accuracy_score(y,y_pred))\n\nknn = knc(n_neighbors=5)\nknn.fit(x_train, y_train)\ny_pred = knn.predict(x_test)\nprint(metrics.accuracy_score(y_test, y_pred))",
      "execution_count": 32,
      "outputs": [
        {
          "output_type": "stream",
          "text": "0.7323943661971831\n0.631578947368421\n",
          "name": "stdout"
        }
      ]
    },
    {
      "metadata": {},
      "cell_type": "markdown",
      "source": "4.3 - Acurácia usando o algoritmo de LogisticRegression\n"
    },
    {
      "metadata": {
        "trusted": true
      },
      "cell_type": "code",
      "source": "logreg = lr()\nlogreg.fit(x_train, y_train)\ny_pred = logreg.predict(x_test)\nprint(metrics.accuracy_score(y_test, y_pred))",
      "execution_count": 33,
      "outputs": [
        {
          "output_type": "stream",
          "text": "0.7192982456140351\n",
          "name": "stdout"
        }
      ]
    },
    {
      "metadata": {},
      "cell_type": "markdown",
      "source": "4.4 - De acordo com seus resultados anteriores, qual dos 3 métodos é mais eficiente?\n"
    },
    {
      "metadata": {
        "trusted": true
      },
      "cell_type": "code",
      "source": "#O 2º método se mostrou o mais eficiente ",
      "execution_count": 34,
      "outputs": []
    },
    {
      "metadata": {
        "trusted": false
      },
      "cell_type": "code",
      "source": "*** Envie o link do seu Github com essa resposta no Classroom\n",
      "execution_count": null,
      "outputs": []
    }
  ],
  "metadata": {
    "kernelspec": {
      "name": "python3",
      "display_name": "Python 3",
      "language": "python"
    },
    "language_info": {
      "mimetype": "text/x-python",
      "nbconvert_exporter": "python",
      "name": "python",
      "pygments_lexer": "ipython3",
      "version": "3.5.4",
      "file_extension": ".py",
      "codemirror_mode": {
        "version": 3,
        "name": "ipython"
      }
    }
  },
  "nbformat": 4,
  "nbformat_minor": 2
}